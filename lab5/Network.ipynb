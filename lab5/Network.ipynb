{
  "cells": [
    {
      "cell_type": "code",
      "execution_count": 70,
      "metadata": {
        "id": "feZI9rAI5Je2"
      },
      "outputs": [],
      "source": [
        "import numpy as np\n",
        "from numpy import average\n",
        "import os\n",
        "import matplotlib.pyplot as plt\n",
        "from sklearn.model_selection import train_test_split\n",
        "\n",
        "from PIL import Image, ImageOps"
      ]
    },
    {
      "cell_type": "code",
      "execution_count": 71,
      "metadata": {
        "id": "zHeV63_F6QvS"
      },
      "outputs": [],
      "source": [
        "path = 'a.npy'\n",
        "pathForBias = 'aBias.npy'\n",
        "def SaveWeigthsInFile(path, network):\n",
        "  np.save(path, network.BestWeights)\n",
        "\n",
        "def SaveBiasWeightsInFile(path, network):\n",
        "  np.save(path, network.BestBiasWeights)\n",
        "\n",
        "def ReadWeigthFromFile(path):\n",
        "  return np.load(path,allow_pickle=True)"
      ]
    },
    {
      "cell_type": "code",
      "execution_count": 72,
      "metadata": {},
      "outputs": [],
      "source": [
        "def approximationFunc(x):\n",
        "    return np.power(x,2)*np.exp(np.sin(x))"
      ]
    },
    {
      "cell_type": "code",
      "execution_count": 73,
      "metadata": {},
      "outputs": [],
      "source": [
        "def sigmoid(x):\n",
        "    #Сигмоидная функция активации: f(x) = 1 / (1 + e^(-x))\n",
        "    return x / (1 + np.abs(x))\n",
        "    #return 1 if x > 0 else 0\n",
        "\n",
        "def dersigmoid(s):\n",
        "  return 1 / (1 + np.abs(s))**2\n",
        "\n",
        "def Hebb(weight, ny, x0, y, e):\n",
        "    return weight - ny * x0 * (y - e)"
      ]
    },
    {
      "cell_type": "code",
      "execution_count": 74,
      "metadata": {
        "id": "Om8l33pSDXEk"
      },
      "outputs": [],
      "source": [
        "'''Описание класса нейрона'''\n",
        "class Neuron:\n",
        "    def __init__(self, weights, bias =1, biasWigth = 1, knowingRatio = 0.9):\n",
        "        self.Weights = weights\n",
        "        self.DeltaWeights = np.zeros(len(weights))\n",
        "        self.Bias = bias\n",
        "        self.KnowingRatio = knowingRatio\n",
        "        self.Beta = 0\n",
        "        self.dW = 0\n",
        "        self.dB = 0\n",
        "        self.BiasWigth = biasWigth\n",
        "    \n",
        "    def feedforward(self, inputs):\n",
        "        self.LastInput = inputs\n",
        "        total = np.dot(self.Weights, inputs) + self.Bias * self.BiasWigth\n",
        "        self.LastRezult = total\n",
        "        return sigmoid(total)\n",
        "    \n",
        "    \n",
        "    def WeightCorrection(self, lam):\n",
        "      self.dW = self.KnowingRatio*self.dW + (1 - self.KnowingRatio) * np.square(self.Beta) \n",
        "      self.dB = self.KnowingRatio*self.dB + (1 - self.KnowingRatio) * np.square(self.Beta)\n",
        "      \n",
        "      self.Weights = self.Weights - np.dot(lam * self.Beta/(np.sqrt(self.dW) + 0.0001), self.LastInput)\n",
        "      self.BiasWigth = self.BiasWigth - lam * self.Beta/(np.sqrt(self.dB) + 0.0001)\n",
        "                \n",
        "\n",
        "    "
      ]
    },
    {
      "cell_type": "code",
      "execution_count": 75,
      "metadata": {
        "id": "BkQCtIOzKwOb",
        "tags": [
          "Perceptron",
          "parameters"
        ]
      },
      "outputs": [],
      "source": [
        "#Neuron network class\n",
        "\n",
        "class HebbNetworkGradient:\n",
        "    def __init__(self, neuronsCountArray,biasWeights = [], Weights = [],\n",
        "                eps = 0.1, lam = 0.1, epochs = 20000, neuroneKnowingRatio = 0.9,\n",
        "                 drawInfo = True, drawInfoEpochs = 1000):\n",
        "        '''\n",
        "        neuronsCountArray example [25, 14, 7, 3, 1] where each number mean\n",
        "         a count of neurons in the layer\n",
        "        ''' \n",
        "        self.IsDrawInfo = drawInfo\n",
        "        self.DrawInfoEpochs = drawInfoEpochs\n",
        "\n",
        "        self.Eps = eps\n",
        "        self.T = 0\n",
        "        self.Epochs = epochs\n",
        "        self.Lam = lam\n",
        "        self.BestWeights = []\n",
        "        self.BestBiasWeights = []\n",
        "        self.BestL = 10000000000\n",
        "        self.L = []\n",
        "        self.Neurons = {}\n",
        "        for i in range(1, len(neuronsCountArray)):\n",
        "          self.Neurons[i] = []\n",
        "          if(len(Weights) == 0):\n",
        "            for j in range(neuronsCountArray[i]):\n",
        "              self.Neurons[i].append(Neuron(np.random.randint(-10,10,neuronsCountArray[i-1]), 1, knowingRatio=neuroneKnowingRatio)) \n",
        "          else:\n",
        "            print(i)\n",
        "            for j in range(len(Weights[i-1])):\n",
        "              self.Neurons[i].append(Neuron(Weights[i-1][j], 1, biasWeights[i-1][j], knowingRatio=neuroneKnowingRatio))\n",
        "    \n",
        "    def fit(self, X, y):\n",
        "        self.T = 1\n",
        "        self.CalculateLoss(X,y)\n",
        "        while self.L[len(self.L)-1] > self.Eps and self.T < self.Epochs:\n",
        "            n_rule = np.random.randint(len(X))\n",
        "            #for n_rule in range(len(X)):\n",
        "            e = self.feedforward(X[n_rule])\n",
        "            if any(np.abs(self.lossFunction(y[n_rule],e))) > self.Eps:\n",
        "              #if np.argmax(y[n_rule]) != e.index(max(e)):\n",
        "                  self.WeightCorrection(y[n_rule])\n",
        "                  self.CalculateLoss(X,y)\n",
        "                  self.T+=1\n",
        "        print(\"network was learned for\",self.T,\"generations\")\n",
        "    \n",
        "    def predict(self, data):\n",
        "        y = []\n",
        "        for i in data:\n",
        "          y.append(self.feedforward(i))\n",
        "        return y\n",
        "        \n",
        "    def feedforward(self, inputs):\n",
        "        y = [neuron.feedforward(inputs) for neuron in self.Neurons[1]]\n",
        "        for i in self.Neurons:\n",
        "          if i == 1:\n",
        "            continue\n",
        "          else:\n",
        "            y = [neuron.feedforward(y) for neuron in self.Neurons[i]]\n",
        "        \n",
        "        return y\n",
        "\n",
        "    def lossFunction(self, e, y):\n",
        "      return np.abs((e - y)/e)\n",
        "\n",
        "    def CalculateLoss(self, x,y):\n",
        "      loss = 0\n",
        "      for j in range(len(x)):\n",
        "        e = self.feedforward(x[j])\n",
        "        loss += np.average(self.lossFunction(e, y[j]))\n",
        "      \n",
        "      self.L.append(loss/len(y))\n",
        "      \n",
        "      if(self.L[len(self.L)-1] < self.BestL):\n",
        "        self.BestL = self.L[len(self.L)-1]\n",
        "        print(\"New best L:\",self.BestL)\n",
        "        weigths = []\n",
        "        for i in self.Neurons:\n",
        "          weigths.append([])\n",
        "          for j in self.Neurons[i]:\n",
        "            weigths[i-1].append(j.Weights)\n",
        "        self.BestWeights = weigths\n",
        "\n",
        "        weigths = []\n",
        "        for i in self.Neurons:\n",
        "          weigths.append([])\n",
        "          for j in self.Neurons[i]:\n",
        "            weigths[i-1].append(j.BiasWigth)\n",
        "        self.BestBiasWeights = weigths\n",
        "      \n",
        "      \n",
        "      if self.IsDrawInfo and self.T % self.DrawInfoEpochs == 0 and self.T != 0:\n",
        "        ratio = self.DrawInfoEpochs\n",
        "        print(\"T\",self.T,\"Loss\",self.L[len(self.L)-1], \"BestLoss\", self.BestL)\n",
        "        plt.plot(range(self.T-ratio,self.T), self.L[(self.T-ratio):self.T])\n",
        "        plt.show()\n",
        "      \n",
        "      return self.L[len(self.L)-1]\n",
        "\n",
        "    def WeightCorrection(self,e):\n",
        "      for i in range(len(self.Neurons[len(self.Neurons)])):\n",
        "        neurone = self.Neurons[len(self.Neurons)][i]\n",
        "        y = sigmoid(neurone.LastRezult)\n",
        "        beta = (y - e[i]) * dersigmoid(neurone.LastRezult)\n",
        "        neurone.Beta = beta\n",
        "        neurone.WeightCorrection(self.Lam)\n",
        "        beta1 = beta * neurone.Weights *  dersigmoid(neurone.LastRezult)\n",
        "        self.AddBetaInPreviousLayer( beta1, len(self.Neurons)-1)\n",
        "\n",
        "      self.BackLayerPropagation(len(self.Neurons)-1)\n",
        "\n",
        "      self.Optimization()\n",
        "\n",
        "    \n",
        "    def BackLayerPropagation(self, layerIndex):\n",
        "      if layerIndex == 0:\n",
        "        return\n",
        "      #Для всех слоёв не считая начального\n",
        "      for neurone in self.Neurons[layerIndex]:\n",
        "        neurone.WeightCorrection(self.Lam)\n",
        "        beta1 = neurone.Beta * neurone.Weights *  dersigmoid(neurone.LastRezult)\n",
        "        self.AddBetaInPreviousLayer( beta1, layerIndex-1)\n",
        "        \n",
        "      \n",
        "      self.BackLayerPropagation(layerIndex-1) \n",
        "\n",
        "    def Optimization(self):\n",
        "      for layerIndex in range(1, len(self.Neurons)+1):\n",
        "        for neurone in self.Neurons[layerIndex]: \n",
        "          neurone.Beta = 0\n",
        "\n",
        "\n",
        "    def AddBetaInPreviousLayer(self, beta, layerIndex):\n",
        "      if layerIndex == 0:\n",
        "        return\n",
        "      for i in range(len(self.Neurons[layerIndex])):\n",
        "        self.Neurons[layerIndex][i].Beta += beta[i]\n",
        "    "
      ]
    },
    {
      "cell_type": "code",
      "execution_count": 76,
      "metadata": {
        "colab": {
          "base_uri": "https://localhost:8080/",
          "height": 635
        },
        "id": "UNcqzKd59YW6",
        "outputId": "2758c31a-662e-458e-d28f-fb50ec3ee6b8"
      },
      "outputs": [
        {
          "name": "stdout",
          "output_type": "stream",
          "text": [
            "Trains\n"
          ]
        },
        {
          "data": {
            "image/png": "[encoded data removed]",
            "text/plain": [
              "<Figure size 640x480 with 1 Axes>"
            ]
          },
          "metadata": {},
          "output_type": "display_data"
        }
      ],
      "source": [
        "x_min = 10\n",
        "x_max = 100\n",
        "x = np.arange(x_min, x_max, 0.5)\n",
        "x = x.reshape(-1,1)\n",
        "x = x\n",
        "y = approximationFunc(x)\n",
        "y = y.reshape(-1,1)\n",
        "y = y/np.max(y)\n",
        "\n",
        "print(\"Trains\")\n",
        "plt.plot(x,y)\n",
        "plt.show()"
      ]
    },
    {
      "cell_type": "code",
      "execution_count": 77,
      "metadata": {
        "colab": {
          "base_uri": "https://localhost:8080/",
          "height": 1000
        },
        "id": "Z4aLeJ4-Y0m-",
        "outputId": "151700ce-3af7-412a-abb3-a4e0c0595d76"
      },
      "outputs": [
        {
          "data": {
            "text/plain": [
              "'\\n#perceptron = HebbNetworkGradient([1,7,1],biasWeights, weights, eps = 0.001, ruleEps = 0.001, lam=0.01)\\n#perceptron.fit(x,y)\\nprint(\"trainLoss: \",perceptron.CalculateLoss(x, y))\\n\\ntest_x = np.arange(x_min, x_max, 0.1)\\ntest_x = test_x.reshape((-1,1))\\n\\ntest_y = approximationFunc(test_x)\\ntest_y  = test_y.reshape((-1,1))\\ntest_y = test_y/np.max(test_y)\\nprint(\"testLoss: \",perceptron.CalculateLoss(test_x, test_y))\\nplt.plot(test_x ,test_y )\\n\\npred_y = perceptron.predict(test_x)\\nplt.plot(test_x, pred_y)\\nplt.show()\\nSaveWeigthsInFile(path, perceptron)\\nSaveBiasWeightsInFile(pathForBias, perceptron)\\n'"
            ]
          },
          "execution_count": 77,
          "metadata": {},
          "output_type": "execute_result"
        }
      ],
      "source": [
        "weights = [];\n",
        "biasWeights = [];\n",
        "#weights = ReadWeigthFromFile(path);\n",
        "#biasWeights = ReadWeigthFromFile(pathForBias);\n",
        "'''\n",
        "#perceptron = HebbNetworkGradient([1,7,1],biasWeights, weights, eps = 0.001, ruleEps = 0.001, lam=0.01)\n",
        "#perceptron.fit(x,y)\n",
        "print(\"trainLoss: \",perceptron.CalculateLoss(x, y))\n",
        "\n",
        "test_x = np.arange(x_min, x_max, 0.1)\n",
        "test_x = test_x.reshape((-1,1))\n",
        "\n",
        "test_y = approximationFunc(test_x)\n",
        "test_y  = test_y.reshape((-1,1))\n",
        "test_y = test_y/np.max(test_y)\n",
        "print(\"testLoss: \",perceptron.CalculateLoss(test_x, test_y))\n",
        "plt.plot(test_x ,test_y )\n",
        "\n",
        "pred_y = perceptron.predict(test_x)\n",
        "plt.plot(test_x, pred_y)\n",
        "plt.show()\n",
        "SaveWeigthsInFile(path, perceptron)\n",
        "SaveBiasWeightsInFile(pathForBias, perceptron)\n",
        "'''\n"
      ]
    },
    {
      "cell_type": "code",
      "execution_count": 78,
      "metadata": {},
      "outputs": [],
      "source": [
        "\n",
        "class RBF:\n",
        "    def __init__(self, R = 1) -> None:\n",
        "        self.R = 1\n",
        "        self.A = 1/(2 * self.R * self.R)\n",
        "    \n",
        "    def fun_act(self, x, r, c):\n",
        "        return np.exp(-np.square(x - c)/np.square(r))\n",
        "\n",
        "    def fun_h(self, x,r,c):\n",
        "        return np.exp(-r*np.abs(x - c))\n",
        "\n",
        "    def fun_H(self, t_x, t_c, r):\n",
        "        H = np.zeros((len(t_x), len(t_c)))\n",
        "        for i in range(len(t_x)):\n",
        "            for j in range(len(t_c)):\n",
        "                H[i][j] = self.fun_h(t_x[i], r, t_c[j])\n",
        "        return H\n",
        "\n",
        "    def fun_RBN(self, x, t_c, a, w):\n",
        "        h = np.zeros((len(t_c)))\n",
        "        for i in range(len(t_c)):\n",
        "            h[i] = self.fun_h(x, a, t_c[i])\n",
        "        return np.dot(h,w)\n",
        "\n",
        "    def fit(self, x, y, c):\n",
        "        H = self.fun_H(x, c, self.A)\n",
        "        H_ = np.dot(np.linalg.inv(np.dot(H.transpose(), H)), H.transpose())\n",
        "        W = np.dot(H_, y)\n",
        "        self.W = W\n",
        "\n",
        "    def predict(self, data, c):\n",
        "        pred_y = np.zeros((len(data)))\n",
        "        for i in range(len(data)):\n",
        "            pred_y[i] = self.fun_RBN(data[i], c, self.A, self.W)\n",
        "        return pred_y\n",
        "        "
      ]
    },
    {
      "cell_type": "code",
      "execution_count": 79,
      "metadata": {},
      "outputs": [],
      "source": [
        "test_x = np.arange(x_min, x_max, 0.1)\n",
        "test_x = test_x.reshape((-1,1))\n",
        "\n",
        "test_y = approximationFunc(test_x)\n",
        "test_y  = test_y.reshape((-1,1))\n",
        "test_y = test_y/np.max(test_y)"
      ]
    },
    {
      "cell_type": "code",
      "execution_count": 98,
      "metadata": {},
      "outputs": [
        {
          "name": "stdout",
          "output_type": "stream",
          "text": [
            "New best L: 0.763211695094185\n",
            "New best L: 0.7403645699903924\n",
            "New best L: 0.7398963466347371\n",
            "New best L: 0.7349602831353994\n",
            "New best L: 0.7347333220726895\n",
            "New best L: 0.7331495893998754\n",
            "New best L: 0.730057711307211\n",
            "New best L: 0.7271534023912574\n",
            "New best L: 0.7235958405591609\n",
            "New best L: 0.7233433568605027\n",
            "New best L: 0.7232737050659719\n",
            "New best L: 0.7227977983719901\n",
            "New best L: 0.7200659717809439\n",
            "New best L: 0.718556620668035\n",
            "New best L: 0.718085667925855\n",
            "New best L: 0.7160459000263191\n",
            "New best L: 0.7156318493862565\n",
            "New best L: 0.7117470761611098\n",
            "New best L: 0.7104172369995693\n",
            "New best L: 0.7067888574925228\n",
            "New best L: 0.703677372244794\n",
            "New best L: 0.7032555634199544\n",
            "New best L: 0.7024670211469052\n",
            "New best L: 0.7004569080311509\n",
            "New best L: 0.6990750091186864\n",
            "New best L: 0.6977588140495873\n",
            "New best L: 0.6905341896988868\n",
            "New best L: 0.687364754666727\n",
            "New best L: 0.6872955917394564\n",
            "New best L: 0.6871651602363452\n",
            "New best L: 0.6869903085214037\n",
            "New best L: 0.6847634275228138\n",
            "New best L: 0.6835015450024798\n",
            "New best L: 0.6823652587592635\n",
            "New best L: 0.6808615973850721\n",
            "New best L: 0.6792434356019493\n",
            "New best L: 0.6789594263924593\n",
            "New best L: 0.6779223567869265\n",
            "New best L: 0.6769971061179859\n",
            "New best L: 0.676492551776537\n",
            "New best L: 0.676005398187928\n",
            "New best L: 0.6758444525349024\n",
            "New best L: 0.6753952483660584\n",
            "New best L: 0.6748882715079888\n",
            "New best L: 0.6742230088884367\n",
            "New best L: 0.6728425740521425\n",
            "New best L: 0.6711939156865296\n",
            "New best L: 0.6710992648962525\n",
            "New best L: 0.6709467770123384\n",
            "New best L: 0.6709291319449942\n",
            "New best L: 0.6704534201652721\n",
            "New best L: 0.6699016580891745\n",
            "New best L: 0.6609196107237956\n",
            "New best L: 0.5563425864148732\n",
            "New best L: 0.5513889411442654\n"
          ]
        },
        {
          "ename": "KeyboardInterrupt",
          "evalue": "",
          "output_type": "error",
          "traceback": [
            "\u001b[1;31m---------------------------------------------------------------------------\u001b[0m",
            "\u001b[1;31mKeyboardInterrupt\u001b[0m                         Traceback (most recent call last)",
            "Cell \u001b[1;32mIn [98], line 2\u001b[0m\n\u001b[0;32m      1\u001b[0m perceptron1layer \u001b[39m=\u001b[39m HebbNetworkGradient([\u001b[39m1\u001b[39m,\u001b[39m7\u001b[39m,\u001b[39m1\u001b[39m], neuroneKnowingRatio\u001b[39m=\u001b[39m\u001b[39m0.5\u001b[39m, eps \u001b[39m=\u001b[39m \u001b[39m0.1\u001b[39m, lam\u001b[39m=\u001b[39m\u001b[39m0.001\u001b[39m, drawInfo\u001b[39m=\u001b[39m\u001b[39mFalse\u001b[39;00m)\n\u001b[1;32m----> 2\u001b[0m perceptron1layer\u001b[39m.\u001b[39;49mfit(x,y)\n",
            "Cell \u001b[1;32mIn [75], line 43\u001b[0m, in \u001b[0;36mHebbNetworkGradient.fit\u001b[1;34m(self, X, y)\u001b[0m\n\u001b[0;32m     40\u001b[0m     \u001b[39mif\u001b[39;00m \u001b[39many\u001b[39m(np\u001b[39m.\u001b[39mabs(\u001b[39mself\u001b[39m\u001b[39m.\u001b[39mlossFunction(y[n_rule],e))) \u001b[39m>\u001b[39m \u001b[39mself\u001b[39m\u001b[39m.\u001b[39mEps:\n\u001b[0;32m     41\u001b[0m       \u001b[39m#if np.argmax(y[n_rule]) != e.index(max(e)):\u001b[39;00m\n\u001b[0;32m     42\u001b[0m           \u001b[39mself\u001b[39m\u001b[39m.\u001b[39mWeightCorrection(y[n_rule])\n\u001b[1;32m---> 43\u001b[0m           \u001b[39mself\u001b[39;49m\u001b[39m.\u001b[39;49mCalculateLoss(X,y)\n\u001b[0;32m     44\u001b[0m           \u001b[39mself\u001b[39m\u001b[39m.\u001b[39mT\u001b[39m+\u001b[39m\u001b[39m=\u001b[39m\u001b[39m1\u001b[39m\n\u001b[0;32m     45\u001b[0m \u001b[39mprint\u001b[39m(\u001b[39m\"\u001b[39m\u001b[39mnetwork was learned for\u001b[39m\u001b[39m\"\u001b[39m,\u001b[39mself\u001b[39m\u001b[39m.\u001b[39mT,\u001b[39m\"\u001b[39m\u001b[39mgenerations\u001b[39m\u001b[39m\"\u001b[39m)\n",
            "Cell \u001b[1;32mIn [75], line 69\u001b[0m, in \u001b[0;36mHebbNetworkGradient.CalculateLoss\u001b[1;34m(self, x, y)\u001b[0m\n\u001b[0;32m     67\u001b[0m loss \u001b[39m=\u001b[39m \u001b[39m0\u001b[39m\n\u001b[0;32m     68\u001b[0m \u001b[39mfor\u001b[39;00m j \u001b[39min\u001b[39;00m \u001b[39mrange\u001b[39m(\u001b[39mlen\u001b[39m(x)):\n\u001b[1;32m---> 69\u001b[0m   e \u001b[39m=\u001b[39m \u001b[39mself\u001b[39;49m\u001b[39m.\u001b[39;49mfeedforward(x[j])\n\u001b[0;32m     70\u001b[0m   loss \u001b[39m+\u001b[39m\u001b[39m=\u001b[39m np\u001b[39m.\u001b[39maverage(\u001b[39mself\u001b[39m\u001b[39m.\u001b[39mlossFunction(e, y[j]))\n\u001b[0;32m     72\u001b[0m \u001b[39mself\u001b[39m\u001b[39m.\u001b[39mL\u001b[39m.\u001b[39mappend(loss\u001b[39m/\u001b[39m\u001b[39mlen\u001b[39m(y))\n",
            "Cell \u001b[1;32mIn [75], line 54\u001b[0m, in \u001b[0;36mHebbNetworkGradient.feedforward\u001b[1;34m(self, inputs)\u001b[0m\n\u001b[0;32m     53\u001b[0m \u001b[39mdef\u001b[39;00m \u001b[39mfeedforward\u001b[39m(\u001b[39mself\u001b[39m, inputs):\n\u001b[1;32m---> 54\u001b[0m     y \u001b[39m=\u001b[39m [neuron\u001b[39m.\u001b[39mfeedforward(inputs) \u001b[39mfor\u001b[39;00m neuron \u001b[39min\u001b[39;00m \u001b[39mself\u001b[39m\u001b[39m.\u001b[39mNeurons[\u001b[39m1\u001b[39m]]\n\u001b[0;32m     55\u001b[0m     \u001b[39mfor\u001b[39;00m i \u001b[39min\u001b[39;00m \u001b[39mself\u001b[39m\u001b[39m.\u001b[39mNeurons:\n\u001b[0;32m     56\u001b[0m       \u001b[39mif\u001b[39;00m i \u001b[39m==\u001b[39m \u001b[39m1\u001b[39m:\n",
            "Cell \u001b[1;32mIn [75], line 54\u001b[0m, in \u001b[0;36m<listcomp>\u001b[1;34m(.0)\u001b[0m\n\u001b[0;32m     53\u001b[0m \u001b[39mdef\u001b[39;00m \u001b[39mfeedforward\u001b[39m(\u001b[39mself\u001b[39m, inputs):\n\u001b[1;32m---> 54\u001b[0m     y \u001b[39m=\u001b[39m [neuron\u001b[39m.\u001b[39;49mfeedforward(inputs) \u001b[39mfor\u001b[39;00m neuron \u001b[39min\u001b[39;00m \u001b[39mself\u001b[39m\u001b[39m.\u001b[39mNeurons[\u001b[39m1\u001b[39m]]\n\u001b[0;32m     55\u001b[0m     \u001b[39mfor\u001b[39;00m i \u001b[39min\u001b[39;00m \u001b[39mself\u001b[39m\u001b[39m.\u001b[39mNeurons:\n\u001b[0;32m     56\u001b[0m       \u001b[39mif\u001b[39;00m i \u001b[39m==\u001b[39m \u001b[39m1\u001b[39m:\n",
            "Cell \u001b[1;32mIn [74], line 15\u001b[0m, in \u001b[0;36mNeuron.feedforward\u001b[1;34m(self, inputs)\u001b[0m\n\u001b[0;32m     13\u001b[0m \u001b[39mdef\u001b[39;00m \u001b[39mfeedforward\u001b[39m(\u001b[39mself\u001b[39m, inputs):\n\u001b[0;32m     14\u001b[0m     \u001b[39mself\u001b[39m\u001b[39m.\u001b[39mLastInput \u001b[39m=\u001b[39m inputs\n\u001b[1;32m---> 15\u001b[0m     total \u001b[39m=\u001b[39m np\u001b[39m.\u001b[39;49mdot(\u001b[39mself\u001b[39;49m\u001b[39m.\u001b[39;49mWeights, inputs) \u001b[39m+\u001b[39m \u001b[39mself\u001b[39m\u001b[39m.\u001b[39mBias \u001b[39m*\u001b[39m \u001b[39mself\u001b[39m\u001b[39m.\u001b[39mBiasWigth\n\u001b[0;32m     16\u001b[0m     \u001b[39mself\u001b[39m\u001b[39m.\u001b[39mLastRezult \u001b[39m=\u001b[39m total\n\u001b[0;32m     17\u001b[0m     \u001b[39mreturn\u001b[39;00m sigmoid(total)\n",
            "File \u001b[1;32m<__array_function__ internals>:180\u001b[0m, in \u001b[0;36mdot\u001b[1;34m(*args, **kwargs)\u001b[0m\n",
            "\u001b[1;31mKeyboardInterrupt\u001b[0m: "
          ]
        }
      ],
      "source": [
        "perceptron1layer = HebbNetworkGradient([1,7,1], neuroneKnowingRatio=0.5, eps = 0.1, lam=0.001, drawInfo=False)\n",
        "perceptron1layer.fit(x,y)\n"
      ]
    },
    {
      "cell_type": "code",
      "execution_count": 86,
      "metadata": {},
      "outputs": [
        {
          "name": "stdout",
          "output_type": "stream",
          "text": [
            "New best L: 0.8050776659307887\n",
            "New best L: 0.801434479185201\n",
            "New best L: 0.7992165003343814\n",
            "New best L: 0.7926374885021329\n",
            "New best L: 0.7925263508780814\n",
            "New best L: 0.7917310691287501\n",
            "New best L: 0.7916076896950451\n",
            "New best L: 0.7827571225387747\n",
            "New best L: 0.7819181321263806\n",
            "New best L: 0.7003647182397208\n",
            "New best L: 0.6889788854595862\n",
            "New best L: 0.6879038903819631\n",
            "New best L: 0.6806973825001756\n",
            "New best L: 0.6803352065009004\n",
            "New best L: 0.6727349545304415\n",
            "New best L: 0.650796390178372\n",
            "New best L: 0.639890399045148\n",
            "New best L: 0.6271671666191505\n",
            "New best L: 0.5832884681223954\n",
            "New best L: 0.5610395735187633\n"
          ]
        },
        {
          "ename": "KeyboardInterrupt",
          "evalue": "",
          "output_type": "error",
          "traceback": [
            "\u001b[1;31m---------------------------------------------------------------------------\u001b[0m",
            "\u001b[1;31mKeyboardInterrupt\u001b[0m                         Traceback (most recent call last)",
            "Cell \u001b[1;32mIn [86], line 2\u001b[0m\n\u001b[0;32m      1\u001b[0m perceptron2layer \u001b[39m=\u001b[39m HebbNetworkGradient([\u001b[39m1\u001b[39m,\u001b[39m7\u001b[39m,\u001b[39m7\u001b[39m,\u001b[39m1\u001b[39m], neuroneKnowingRatio\u001b[39m=\u001b[39m\u001b[39m0.3\u001b[39m, eps \u001b[39m=\u001b[39m \u001b[39m0.1\u001b[39m, lam\u001b[39m=\u001b[39m\u001b[39m0.001\u001b[39m, drawInfo\u001b[39m=\u001b[39m\u001b[39mFalse\u001b[39;00m)\n\u001b[1;32m----> 2\u001b[0m perceptron2layer\u001b[39m.\u001b[39;49mfit(x,y)\n",
            "Cell \u001b[1;32mIn [75], line 43\u001b[0m, in \u001b[0;36mHebbNetworkGradient.fit\u001b[1;34m(self, X, y)\u001b[0m\n\u001b[0;32m     40\u001b[0m     \u001b[39mif\u001b[39;00m \u001b[39many\u001b[39m(np\u001b[39m.\u001b[39mabs(\u001b[39mself\u001b[39m\u001b[39m.\u001b[39mlossFunction(y[n_rule],e))) \u001b[39m>\u001b[39m \u001b[39mself\u001b[39m\u001b[39m.\u001b[39mEps:\n\u001b[0;32m     41\u001b[0m       \u001b[39m#if np.argmax(y[n_rule]) != e.index(max(e)):\u001b[39;00m\n\u001b[0;32m     42\u001b[0m           \u001b[39mself\u001b[39m\u001b[39m.\u001b[39mWeightCorrection(y[n_rule])\n\u001b[1;32m---> 43\u001b[0m           \u001b[39mself\u001b[39;49m\u001b[39m.\u001b[39;49mCalculateLoss(X,y)\n\u001b[0;32m     44\u001b[0m           \u001b[39mself\u001b[39m\u001b[39m.\u001b[39mT\u001b[39m+\u001b[39m\u001b[39m=\u001b[39m\u001b[39m1\u001b[39m\n\u001b[0;32m     45\u001b[0m \u001b[39mprint\u001b[39m(\u001b[39m\"\u001b[39m\u001b[39mnetwork was learned for\u001b[39m\u001b[39m\"\u001b[39m,\u001b[39mself\u001b[39m\u001b[39m.\u001b[39mT,\u001b[39m\"\u001b[39m\u001b[39mgenerations\u001b[39m\u001b[39m\"\u001b[39m)\n",
            "Cell \u001b[1;32mIn [75], line 69\u001b[0m, in \u001b[0;36mHebbNetworkGradient.CalculateLoss\u001b[1;34m(self, x, y)\u001b[0m\n\u001b[0;32m     67\u001b[0m loss \u001b[39m=\u001b[39m \u001b[39m0\u001b[39m\n\u001b[0;32m     68\u001b[0m \u001b[39mfor\u001b[39;00m j \u001b[39min\u001b[39;00m \u001b[39mrange\u001b[39m(\u001b[39mlen\u001b[39m(x)):\n\u001b[1;32m---> 69\u001b[0m   e \u001b[39m=\u001b[39m \u001b[39mself\u001b[39;49m\u001b[39m.\u001b[39;49mfeedforward(x[j])\n\u001b[0;32m     70\u001b[0m   loss \u001b[39m+\u001b[39m\u001b[39m=\u001b[39m np\u001b[39m.\u001b[39maverage(\u001b[39mself\u001b[39m\u001b[39m.\u001b[39mlossFunction(e, y[j]))\n\u001b[0;32m     72\u001b[0m \u001b[39mself\u001b[39m\u001b[39m.\u001b[39mL\u001b[39m.\u001b[39mappend(loss\u001b[39m/\u001b[39m\u001b[39mlen\u001b[39m(y))\n",
            "Cell \u001b[1;32mIn [75], line 54\u001b[0m, in \u001b[0;36mHebbNetworkGradient.feedforward\u001b[1;34m(self, inputs)\u001b[0m\n\u001b[0;32m     53\u001b[0m \u001b[39mdef\u001b[39;00m \u001b[39mfeedforward\u001b[39m(\u001b[39mself\u001b[39m, inputs):\n\u001b[1;32m---> 54\u001b[0m     y \u001b[39m=\u001b[39m [neuron\u001b[39m.\u001b[39mfeedforward(inputs) \u001b[39mfor\u001b[39;00m neuron \u001b[39min\u001b[39;00m \u001b[39mself\u001b[39m\u001b[39m.\u001b[39mNeurons[\u001b[39m1\u001b[39m]]\n\u001b[0;32m     55\u001b[0m     \u001b[39mfor\u001b[39;00m i \u001b[39min\u001b[39;00m \u001b[39mself\u001b[39m\u001b[39m.\u001b[39mNeurons:\n\u001b[0;32m     56\u001b[0m       \u001b[39mif\u001b[39;00m i \u001b[39m==\u001b[39m \u001b[39m1\u001b[39m:\n",
            "Cell \u001b[1;32mIn [75], line 54\u001b[0m, in \u001b[0;36m<listcomp>\u001b[1;34m(.0)\u001b[0m\n\u001b[0;32m     53\u001b[0m \u001b[39mdef\u001b[39;00m \u001b[39mfeedforward\u001b[39m(\u001b[39mself\u001b[39m, inputs):\n\u001b[1;32m---> 54\u001b[0m     y \u001b[39m=\u001b[39m [neuron\u001b[39m.\u001b[39;49mfeedforward(inputs) \u001b[39mfor\u001b[39;00m neuron \u001b[39min\u001b[39;00m \u001b[39mself\u001b[39m\u001b[39m.\u001b[39mNeurons[\u001b[39m1\u001b[39m]]\n\u001b[0;32m     55\u001b[0m     \u001b[39mfor\u001b[39;00m i \u001b[39min\u001b[39;00m \u001b[39mself\u001b[39m\u001b[39m.\u001b[39mNeurons:\n\u001b[0;32m     56\u001b[0m       \u001b[39mif\u001b[39;00m i \u001b[39m==\u001b[39m \u001b[39m1\u001b[39m:\n",
            "Cell \u001b[1;32mIn [74], line 15\u001b[0m, in \u001b[0;36mNeuron.feedforward\u001b[1;34m(self, inputs)\u001b[0m\n\u001b[0;32m     13\u001b[0m \u001b[39mdef\u001b[39;00m \u001b[39mfeedforward\u001b[39m(\u001b[39mself\u001b[39m, inputs):\n\u001b[0;32m     14\u001b[0m     \u001b[39mself\u001b[39m\u001b[39m.\u001b[39mLastInput \u001b[39m=\u001b[39m inputs\n\u001b[1;32m---> 15\u001b[0m     total \u001b[39m=\u001b[39m np\u001b[39m.\u001b[39;49mdot(\u001b[39mself\u001b[39;49m\u001b[39m.\u001b[39;49mWeights, inputs) \u001b[39m+\u001b[39m \u001b[39mself\u001b[39m\u001b[39m.\u001b[39mBias \u001b[39m*\u001b[39m \u001b[39mself\u001b[39m\u001b[39m.\u001b[39mBiasWigth\n\u001b[0;32m     16\u001b[0m     \u001b[39mself\u001b[39m\u001b[39m.\u001b[39mLastRezult \u001b[39m=\u001b[39m total\n\u001b[0;32m     17\u001b[0m     \u001b[39mreturn\u001b[39;00m sigmoid(total)\n",
            "File \u001b[1;32m<__array_function__ internals>:180\u001b[0m, in \u001b[0;36mdot\u001b[1;34m(*args, **kwargs)\u001b[0m\n",
            "\u001b[1;31mKeyboardInterrupt\u001b[0m: "
          ]
        }
      ],
      "source": [
        "perceptron2layer = HebbNetworkGradient([1,7,7,1], neuroneKnowingRatio=0.3, eps = 0.1, lam=0.001, drawInfo=False)\n",
        "perceptron2layer.fit(x,y)"
      ]
    },
    {
      "cell_type": "code",
      "execution_count": 87,
      "metadata": {},
      "outputs": [],
      "source": [
        "n = 5\n",
        "c = np.arange(x_min, x_max, (x_max-x_min)/n)\n",
        "c = c.reshape(-1,1)\n",
        "rbf = RBF()\n",
        "rbf.fit(x, y, c)"
      ]
    },
    {
      "cell_type": "code",
      "execution_count": 99,
      "metadata": {},
      "outputs": [
        {
          "name": "stdout",
          "output_type": "stream",
          "text": [
            "1\n",
            "2\n"
          ]
        }
      ],
      "source": [
        "perceptron1layer = HebbNetworkGradient([1,7,1], perceptron1layer.BestBiasWeights, perceptron1layer.BestWeights)"
      ]
    },
    {
      "cell_type": "code",
      "execution_count": 88,
      "metadata": {},
      "outputs": [
        {
          "name": "stdout",
          "output_type": "stream",
          "text": [
            "1\n",
            "2\n",
            "3\n"
          ]
        }
      ],
      "source": [
        "perceptron2layer = HebbNetworkGradient([1,7,7,1], perceptron2layer.BestBiasWeights, perceptron2layer.BestWeights)"
      ]
    },
    {
      "cell_type": "code",
      "execution_count": 100,
      "metadata": {},
      "outputs": [
        {
          "data": {
            "image/png": "[encoded data removed]",
            "text/plain": [
              "<Figure size 640x480 with 1 Axes>"
            ]
          },
          "metadata": {},
          "output_type": "display_data"
        }
      ],
      "source": [
        "from turtle import color\n",
        "\n",
        "pred_y_rbf = rbf.predict(test_x,c)\n",
        "pred_y_perc1 = perceptron1layer.predict(test_x)\n",
        "pred_y_perc2 = perceptron2layer.predict(test_x)\n",
        "plt.plot(test_x, pred_y_rbf, color = 'black')\n",
        "plt.plot(test_x ,test_y , color = 'b')\n",
        "plt.plot(test_x,pred_y_perc1, color = 'gray')\n",
        "plt.plot(test_x,pred_y_perc2, color = 'orange')\n",
        "\n",
        "plt.show()"
      ]
    }
  ],
  "metadata": {
    "colab": {
      "collapsed_sections": [],
      "provenance": []
    },
    "kernelspec": {
      "display_name": "Python 3.10.7 64-bit",
      "language": "python",
      "name": "python3"
    },
    "language_info": {
      "codemirror_mode": {
        "name": "ipython",
        "version": 3
      },
      "file_extension": ".py",
      "mimetype": "text/x-python",
      "name": "python",
      "nbconvert_exporter": "python",
      "pygments_lexer": "ipython3",
      "version": "3.10.7"
    },
    "vscode": {
      "interpreter": {
        "hash": "369f2c481f4da34e4445cda3fffd2e751bd1c4d706f27375911949ba6bb62e1c"
      }
    }
  },
  "nbformat": 4,
  "nbformat_minor": 0
}
